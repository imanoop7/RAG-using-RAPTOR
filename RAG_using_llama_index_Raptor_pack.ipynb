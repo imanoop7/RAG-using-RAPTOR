{
  "cells": [
    {
      "cell_type": "code",
      "execution_count": null,
      "metadata": {
        "id": "87rZlk3RJffS"
      },
      "outputs": [],
      "source": [
        "pip install llama-index llama-index-packs-raptor llama-index-vector-stores-qdrant"
      ]
    },
    {
      "cell_type": "code",
      "execution_count": null,
      "metadata": {
        "id": "CK3eyuGDMZec"
      },
      "outputs": [],
      "source": [
        "pip install llama-index-vector-stores-chroma"
      ]
    },
    {
      "cell_type": "code",
      "execution_count": 4,
      "metadata": {
        "id": "4UwDhCihKeU_"
      },
      "outputs": [],
      "source": [
        "import nest_asyncio\n",
        "\n",
        "nest_asyncio.apply()"
      ]
    },
    {
      "cell_type": "code",
      "execution_count": 7,
      "metadata": {
        "id": "7yJjEa3FKjH_"
      },
      "outputs": [],
      "source": [
        "from llama_index.core import SimpleDirectoryReader\n",
        "\n",
        "documents = SimpleDirectoryReader(input_files=[\"./oops.pdf\"]).load_data()"
      ]
    },
    {
      "cell_type": "code",
      "execution_count": 11,
      "metadata": {},
      "outputs": [],
      "source": [
        "from openai import OpenAI"
      ]
    },
    {
      "cell_type": "code",
      "execution_count": null,
      "metadata": {
        "colab": {
          "base_uri": "https://localhost:8080/",
          "height": 445
        },
        "id": "W3-_gQ8mKtxg",
        "outputId": "abb532fb-0b99-44b4-ef0b-14737151ef7d"
      },
      "outputs": [],
      "source": [
        "from llama_index.core.node_parser import SentenceSplitter\n",
        "from llama_index.llms.openai import OpenAI\n",
        "from llama_index.embeddings.openai import OpenAIEmbedding\n",
        "from llama_index.vector_stores.chroma import ChromaVectorStore\n",
        "import chromadb\n",
        "from llama_index.packs.raptor import RaptorPack\n",
        "\n",
        "client = chromadb.PersistentClient(path=\"./raptor_paper_db\")\n",
        "collection = client.get_or_create_collection(\"raptor\")\n",
        "\n",
        "vector_store = ChromaVectorStore(chroma_collection=collection)\n",
        "\n",
        "raptor_pack = RaptorPack(\n",
        "    documents,\n",
        "    embed_model=OpenAIEmbedding(\n",
        "        model=\"text-embedding-3-small\"\n",
        "    ),  # used for embedding clusters\n",
        "    llm=OpenAI(model=\"gpt-3.5-turbo\", temperature=0.1),  # used for generating summaries\n",
        "    vector_store=vector_store,  # used for storage\n",
        "    similarity_top_k=2,  # top k for each layer, or overall top-k for collapsed\n",
        "    mode=\"collapsed\",  # sets default mode\n",
        "    transformations=[\n",
        "        SentenceSplitter(chunk_size=400, chunk_overlap=50)\n",
        "    ],  # transformations applied for ingestion\n",
        ")"
      ]
    },
    {
      "cell_type": "code",
      "execution_count": null,
      "metadata": {
        "id": "hCL_JDQILjAQ"
      },
      "outputs": [],
      "source": [
        "nodes = raptor_pack.run(\"What baselines is raptor compared against?\", mode=\"collapsed\")\n",
        "print(len(nodes))\n",
        "print(nodes[0].text)"
      ]
    },
    {
      "cell_type": "code",
      "execution_count": null,
      "metadata": {
        "id": "ZuhK5BLAR52G"
      },
      "outputs": [],
      "source": [
        "nodes = raptor_pack.run(\n",
        "    \"What baselines is raptor compared against?\", mode=\"tree_traversal\"\n",
        ")\n",
        "print(len(nodes))\n",
        "print(nodes[0].text)"
      ]
    },
    {
      "cell_type": "code",
      "execution_count": null,
      "metadata": {},
      "outputs": [],
      "source": []
    }
  ],
  "metadata": {
    "colab": {
      "provenance": []
    },
    "kernelspec": {
      "display_name": "Python 3",
      "name": "python3"
    },
    "language_info": {
      "codemirror_mode": {
        "name": "ipython",
        "version": 3
      },
      "file_extension": ".py",
      "mimetype": "text/x-python",
      "name": "python",
      "nbconvert_exporter": "python",
      "pygments_lexer": "ipython3",
      "version": "3.11.5"
    }
  },
  "nbformat": 4,
  "nbformat_minor": 0
}
